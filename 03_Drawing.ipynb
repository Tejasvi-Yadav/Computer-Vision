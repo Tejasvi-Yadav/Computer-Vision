{
 "cells": [
  {
   "cell_type": "code",
   "execution_count": 1,
   "id": "3245bb7a",
   "metadata": {},
   "outputs": [
    {
     "name": "stderr",
     "output_type": "stream",
     "text": [
      "C:\\ProgramData\\anaconda3\\Lib\\site-packages\\paramiko\\transport.py:219: CryptographyDeprecationWarning: Blowfish has been deprecated\n",
      "  \"class\": algorithms.Blowfish,\n"
     ]
    }
   ],
   "source": [
    "import cv2\n",
    "import matplotlib.pyplot as plt\n",
    "from PIL import Image\n",
    "from skimage import io"
   ]
  },
  {
   "cell_type": "code",
   "execution_count": null,
   "id": "dcdad913",
   "metadata": {},
   "outputs": [],
   "source": [
    "image = cv2.imread('lenna.png')\n",
    "\n",
    "#define starting and ending points of line\n",
    "start_point = (100,50)\n",
    "end_point = (300,200)\n",
    "\n",
    "#draw a green line with thickness of 2 pixels\n",
    "cv2.line(image,start_point,end_point,(0,255,0),2)\n",
    "\n",
    "#display the image with line\n",
    "cv2.imshow('Image with line',image)\n",
    "cv2.waitKey(0)\n",
    "cv2.destroyAllWindows()"
   ]
  },
  {
   "cell_type": "code",
   "execution_count": null,
   "id": "ebfa3369",
   "metadata": {},
   "outputs": [],
   "source": [
    "image = cv2.imread('lenna.png')\n",
    "\n",
    "#define starting and ending points of line\n",
    "start_point = (100,50)\n",
    "end_point = (300,200)\n",
    "\n",
    "#draw a black line from diagonal with thickness of 2 pixels\n",
    "cv2.line(image,(0,0),(511,511),(163,189,111),2)\n",
    "cv2.line(image,(0,511),(511,0),(0,255,255),5)\n",
    "\n",
    "#display the image with line\n",
    "cv2.imshow('Image with line',image)\n",
    "cv2.waitKey(0)\n",
    "cv2.destroyAllWindows()"
   ]
  },
  {
   "cell_type": "markdown",
   "id": "92255ae0",
   "metadata": {},
   "source": [
    "### line using equation"
   ]
  },
  {
   "cell_type": "code",
   "execution_count": null,
   "id": "8918a4df",
   "metadata": {},
   "outputs": [],
   "source": [
    "import numpy as np"
   ]
  },
  {
   "cell_type": "code",
   "execution_count": null,
   "id": "ab9f113e",
   "metadata": {},
   "outputs": [],
   "source": [
    "num = np.arange(10,20,0.5)"
   ]
  },
  {
   "cell_type": "code",
   "execution_count": null,
   "id": "57c59531",
   "metadata": {},
   "outputs": [],
   "source": [
    "y=num*17.5+3.1"
   ]
  },
  {
   "cell_type": "code",
   "execution_count": null,
   "id": "220c6dd9",
   "metadata": {},
   "outputs": [],
   "source": [
    "plt.xlim(10,20)\n",
    "plt.ylim(0,max(y)+1)\n",
    "plt.plot(num,y)\n",
    "plt.scatter(num,y,color = 'red')"
   ]
  },
  {
   "cell_type": "markdown",
   "id": "7cdfd6d8",
   "metadata": {},
   "source": [
    "### 3D Line Drawing"
   ]
  },
  {
   "cell_type": "code",
   "execution_count": null,
   "id": "e3ea5fb2",
   "metadata": {},
   "outputs": [],
   "source": [
    "from mpl_toolkits.mplot3d import Axes3D\n",
    "import matplotlib.pyplot as plt\n",
    "\n",
    "# define start and end points of the line in 3D space\n",
    "start_point = (10,22,33)\n",
    "end_point = (44,52,67)\n",
    "\n",
    "# create a 3D plot\n",
    "fig = plt.figure()\n",
    "ax = fig.add_subplot(111, projection='3d')\n",
    "\n",
    "# plot the line\n",
    "ax.plot([start_point[0],end_point[0]],\n",
    "        [start_point[1],end_point[1]],\n",
    "        [start_point[2],end_point[2]], 'r-')\n",
    "\n",
    "ax.plot([10,40],[55,35],[35,30],'g:')\n",
    "\n",
    "# Set labels and title\n",
    "ax.set_xlabel('X')\n",
    "ax.set_ylabel('Y')\n",
    "ax.set_zlabel('Z')\n",
    "ax.set_title('3D Line')\n",
    "\n",
    "# Show the plot\n",
    "plt.show()"
   ]
  },
  {
   "cell_type": "code",
   "execution_count": null,
   "id": "608bd79b",
   "metadata": {},
   "outputs": [],
   "source": [
    "import turtle\n",
    "\n",
    "# Create a turtle  object\n",
    "\n",
    "t= turtle.Turtle()\n",
    "\n",
    "# SET  the line width (optional)\n",
    "t.pensize(3)\n",
    "\n",
    "# move the trutle to the starting position\n",
    "t.penup()\n",
    "t.goto(0,-50) # replace with your  desired starting coordinates ( x,y)\n",
    "t.pendown()\n",
    "\n",
    "# move the turtle to the ending positon (drawing the line)\n",
    "t.goto(300,0)  # replace with your desired ending coordinates(x,y)\n",
    "\n",
    "# keep the window open until closed manually\n",
    "turtle.done()"
   ]
  },
  {
   "cell_type": "markdown",
   "id": "5c9796bf",
   "metadata": {},
   "source": [
    "### Rectangle"
   ]
  },
  {
   "cell_type": "code",
   "execution_count": null,
   "id": "f5d63a63",
   "metadata": {},
   "outputs": [],
   "source": [
    "import cv2\n",
    "\n",
    "#Load your image\n",
    "image = cv2.imread(\"lenna.png\")\n",
    "\n",
    "#Define top-left corner and dimensions\n",
    "x , y , w , h = 100 , 50 , 200 , 150\n",
    "\n",
    "# Draw a blue rectagle with thickness of 2 pixels\n",
    "cv2.rectangle(image,(x,y),(x+w,y+h),(255,0,0),10)\n",
    "\n",
    "# Show the image with the rectangle\n",
    "cv2.imshow(\"Image with Rectangle\",image)\n",
    "cv2.waitKey(0)\n",
    "cv2.destroyAllWindows()"
   ]
  },
  {
   "cell_type": "code",
   "execution_count": null,
   "id": "3ce15e5c",
   "metadata": {},
   "outputs": [],
   "source": [
    "import cv2\n",
    "\n",
    "#Load your image\n",
    "image = cv2.imread(\"lenna.png\")\n",
    "\n",
    "#Define top-left corner and dimensions\n",
    "x , y , w , h = 100 , 50 , 200 , 150\n",
    "\n",
    "# Draw a blue rectagle with thickness of 2 pixels\n",
    "cv2.rectangle(image,(0,0),(255,255),(255,0,0),2)\n",
    "cv2.rectangle(image,(255,0),(512,255),(127,255,0),2)\n",
    "cv2.rectangle(image,(0,255),(255,255),(127,255,255),2)\n",
    "cv2.rectangle(image,(255,255),(512,512),(0,0,255),2)\n",
    "\n",
    "# Show the image with the rectangle\n",
    "cv2.imshow(\"Image with Rectangle\",image)\n",
    "cv2.waitKey(0)\n",
    "cv2.destroyAllWindows()"
   ]
  },
  {
   "cell_type": "code",
   "execution_count": null,
   "id": "33ac50c1",
   "metadata": {},
   "outputs": [],
   "source": [
    "import numpy as np\n",
    "\n",
    "image = np.ones([200,300])- 0.15\n",
    "cv2.rectangle(image,(50,50),(250,150),(0,0,0),10)\n",
    "cv2.imshow('Sample Image',image)\n",
    "cv2.waitKey(0)\n",
    "cv2.destroyAllWindows()"
   ]
  },
  {
   "cell_type": "markdown",
   "id": "f6d860dc",
   "metadata": {},
   "source": [
    "### Rectangle using matplotlib"
   ]
  },
  {
   "cell_type": "code",
   "execution_count": null,
   "id": "40c0ee40",
   "metadata": {},
   "outputs": [],
   "source": [
    "import matplotlib.pyplot as plt\n",
    "\n",
    "# define rectangle coordinates \n",
    "x_min, y_min, x_max, y_max = 1 , 2, 4, 5\n",
    "\n",
    "# create the rantangle patch\n",
    "rectangle = plt.Rectangle((x_min,y_min), x_max - x_min, y_max - y_min, color='red', alpha=0.2) # alpha = transparancy of rectangle\n",
    "\n",
    "#add the rectangle to a plot and customize labels/ title\n",
    "plt.plot([x_min,x_max], [y_min, y_min], 'b-',label='X-axis')\n",
    "plt.plot([x_min,x_min], [y_min, y_max], 'b-',label='Y-axis')\n",
    "plt.gca().add_patch(rectangle)\n",
    "plt.xlabel(\"X\")\n",
    "plt.ylabel(\"Y\")\n",
    "plt.title(\"Rectangle Polt\")\n",
    "plt.legend()\n",
    "\n",
    "# show the plot\n",
    "plt.show()"
   ]
  },
  {
   "cell_type": "markdown",
   "id": "bd98b740",
   "metadata": {},
   "source": [
    "### Rectangle using  turtle "
   ]
  },
  {
   "cell_type": "code",
   "execution_count": null,
   "id": "08f37519",
   "metadata": {},
   "outputs": [],
   "source": [
    "import turtle\n",
    "\n",
    "# Create a turtle object\n",
    "t = turtle.Turtle()\n",
    "# set color and pen size\n",
    "t.color(\"green\")\n",
    "t.pensize(5)\n",
    "t.speed(0)\n",
    "# move the turtle and draw the rectangle\n",
    "t.penup()\n",
    "t.goto(-50,25)\n",
    "t.pendown()\n",
    "t.forward(100)\n",
    "t.left(90)\n",
    "t.forward(50)\n",
    "t.left(90)\n",
    "t.forward(100)\n",
    "t.left(90)\n",
    "t.forward(50)\n",
    "t.hideturtle()\n",
    "\n",
    "# start the turtle graphics window\n",
    "turtle.done()"
   ]
  },
  {
   "cell_type": "markdown",
   "id": "0fc5715d",
   "metadata": {},
   "source": [
    "### Drawing Ellipse"
   ]
  },
  {
   "cell_type": "code",
   "execution_count": 21,
   "id": "f5a2ad08",
   "metadata": {},
   "outputs": [],
   "source": [
    "import cv2\n",
    "\n",
    "# Load an image\n",
    "image = cv2.imread(\"lenna.png\")\n",
    "\n",
    "# Define center coordinates, radii, and angle\n",
    "center = (255,255) # (x,y)\n",
    "axes = (255,100) # (major_radius , minor_radius)\n",
    "angle = 90 # angle of rotation in degrees\n",
    "\n",
    "# Draw a greeb ellipse with thickness of 3 pixels\n",
    "cv2.ellipse(image,center,axes,angle,180,360,(255,0,0),3)\n",
    "cv2.ellipse(image,center,axes,angle,0,180,(0,0,255),3)\n",
    "# cv2.ellipse(image,(200,400),axes,30,0,360,(0,255,0),3)\n",
    "# cv2.ellipse(image,(260,270),axes,90,0,360,(0,255,0),3)\n",
    "\n",
    "# Display the image with ellipse\n",
    "cv2.imshow(\"Image with Ellipse\",image)\n",
    "cv2.waitKey(0)\n",
    "cv2.destroyAllWindows()"
   ]
  },
  {
   "cell_type": "markdown",
   "id": "7e388164",
   "metadata": {},
   "source": [
    "### Ellipse using matplotlib"
   ]
  },
  {
   "cell_type": "code",
   "execution_count": 25,
   "id": "1f1836aa",
   "metadata": {},
   "outputs": [
    {
     "data": {
      "text/plain": [
       "Text(0.5, 1.0, 'Ellipse Plot')"
      ]
     },
     "execution_count": 25,
     "metadata": {},
     "output_type": "execute_result"
    },
    {
     "data": {
      "image/png": "[encoded data removed]",
      "text/plain": [
       "<Figure size 640x480 with 1 Axes>"
      ]
     },
     "metadata": {},
     "output_type": "display_data"
    }
   ],
   "source": [
    "import matplotlib.pyplot as plt\n",
    "from matplotlib.patches import Ellipse\n",
    "\n",
    "# Define center corrdinates , radii and angle\n",
    "center = (0,0)\n",
    "width = 8\n",
    "height = 8\n",
    "angle = 45\n",
    "\n",
    "# Center the ellipse object\n",
    "ellipse = Ellipse(xy=center , width=width , height = height, angle=angle, color = 'blue')\n",
    "\n",
    "# Add the ellipse to the plot\n",
    "fig, ax = plt.subplots()\n",
    "ax.add_patch(ellipse)\n",
    "ax.set_aspect('equal') # maintain equal aspect ration for correct shape\n",
    "\n",
    "# set limits slightly wider than the ellipse \n",
    "ax.set_xlim(-width - width/5, width + width/5)\n",
    "ax.set_ylim(-height - height/5 , height + height/5)\n",
    "\n",
    "# add labels and title\n",
    "ax.set_xlabel(\"X\")\n",
    "ax.set_ylabel(\"Y\")\n",
    "ax.set_title(\"Ellipse Plot\")"
   ]
  },
  {
   "cell_type": "markdown",
   "id": "65cc50f0",
   "metadata": {},
   "source": [
    "### Drawing circle"
   ]
  },
  {
   "cell_type": "code",
   "execution_count": 46,
   "id": "61106ae2",
   "metadata": {},
   "outputs": [],
   "source": [
    "import cv2\n",
    "\n",
    "# load and image\n",
    "image = cv2.imread(\"lenna.png\")\n",
    "\n",
    "# define center coordinates and radius\n",
    "center = (255,255) # (x,y)\n",
    "\n",
    "\n",
    "for i in range(10,301,15):\n",
    "    cv2.circle(image, center , i, (0,1//2,i),4)\n",
    "   \n",
    "\n",
    " # draw a red circle with thickness of 4 pixels\n",
    "# cv2.circle(image, center , radius, (0,0,255),4)\n",
    "\n",
    "# display the image with the circle\n",
    "cv2.imshow(\"Image with Ellipse\",image)\n",
    "cv2.waitKey(0)\n",
    "cv2.destroyAllWindows()"
   ]
  },
  {
   "cell_type": "markdown",
   "id": "f78dd97d",
   "metadata": {},
   "source": [
    "### circle using matplotlib"
   ]
  },
  {
   "cell_type": "code",
   "execution_count": 61,
   "id": "71ee98a7",
   "metadata": {},
   "outputs": [
    {
     "data": {
      "text/plain": [
       "Text(0.5, 1.0, 'Circle Plot')"
      ]
     },
     "execution_count": 61,
     "metadata": {},
     "output_type": "execute_result"
    },
    {
     "data": {
      "image/png": "[encoded data removed]",
      "text/plain": [
       "<Figure size 640x480 with 1 Axes>"
      ]
     },
     "metadata": {},
     "output_type": "display_data"
    }
   ],
   "source": [
    "import matplotlib.pyplot as plt\n",
    "\n",
    "\n",
    "# Define center corrdinates \n",
    "center = (0,0)\n",
    "radius = 2\n",
    "\n",
    "# Center the Circle object\n",
    "circle = plt.Circle(xy=center , radius=radius, color = 'black')\n",
    "\n",
    "# Add the Circle to the plot\n",
    "fig, ax = plt.subplots()\n",
    "ax.add_patch(circle)\n",
    "ax.set_aspect('equal') # maintain equal aspect ration for correct shape\n",
    "\n",
    "# set limits slightly wider than the Circle \n",
    "ax.set_xlim(-radius - radius/5, radius + radius/5)\n",
    "ax.set_ylim(-radius - radius/5 , radius + radius/5)\n",
    "\n",
    "# add labels and title\n",
    "ax.set_xlabel(\"X\")\n",
    "ax.set_ylabel(\"Y\")\n",
    "ax.set_title(\"Circle Plot\")"
   ]
  },
  {
   "cell_type": "markdown",
   "id": "84a294e5",
   "metadata": {},
   "source": [
    "### using Tkinter library"
   ]
  },
  {
   "cell_type": "code",
   "execution_count": 62,
   "id": "9b875d6d",
   "metadata": {},
   "outputs": [],
   "source": [
    "from tkinter import *"
   ]
  },
  {
   "cell_type": "code",
   "execution_count": 64,
   "id": "3c6f4b74",
   "metadata": {},
   "outputs": [],
   "source": [
    "top = Tk()\n",
    "\n",
    "top.mainloop()"
   ]
  },
  {
   "cell_type": "code",
   "execution_count": 65,
   "id": "9e646595",
   "metadata": {},
   "outputs": [],
   "source": [
    "top = Tk()\n",
    "top.geometry('800x500')\n",
    "top.title('My Windows')\n",
    "\n",
    "Label(top, text='Enter your name:').pack()\n",
    "Entry(top).pack()\n",
    "Button(top, text = 'Submit').pack()\n",
    "top.mainloop()"
   ]
  },
  {
   "cell_type": "code",
   "execution_count": 67,
   "id": "08a050ab",
   "metadata": {},
   "outputs": [],
   "source": [
    "top = Tk()\n",
    "top.geometry('800x500')\n",
    "top.title('My Windows')\n",
    "\n",
    "Label(top, text='Enter your name:').place(x=50,y=50)\n",
    "Entry(top).place(x=50,y=80)\n",
    "Button(top, text = 'Submit').place(x=50,y=110)\n",
    "top.mainloop()"
   ]
  },
  {
   "cell_type": "markdown",
   "id": "8945ea6c",
   "metadata": {},
   "source": [
    "### Event Handling"
   ]
  },
  {
   "cell_type": "code",
   "execution_count": 75,
   "id": "6546d0e3",
   "metadata": {},
   "outputs": [],
   "source": [
    "top = Tk()\n",
    "top.geometry('800x500')\n",
    "top.title('My Windows')\n",
    "\n",
    "def show():\n",
    "    Label(top,text=\"Your name:\"+str(e.get()).upper()).place(x=50,y=150)\n",
    "\n",
    "Label(top, text='Enter your name:').place(x=50,y=50)\n",
    "e = Entry(top)\n",
    "e.place(x=50,y=80)\n",
    "Button(top, text = 'Submit',command=show).place(x=50,y=110)\n",
    "top.mainloop()"
   ]
  },
  {
   "cell_type": "markdown",
   "id": "e328abe5",
   "metadata": {},
   "source": [
    "### Drawing canvas"
   ]
  },
  {
   "cell_type": "code",
   "execution_count": 89,
   "id": "a302cb35",
   "metadata": {},
   "outputs": [],
   "source": [
    "# create the main windows\n",
    "root = Tk()\n",
    "root.geometry('800x500')\n",
    "root.title('My Windows')\n",
    "\n",
    "# create the cancas widget\n",
    "canvas = Canvas(root, width=1000, height=800, bg=\"white\")\n",
    "canvas.pack()\n",
    "\n",
    "# Define drawing functions\n",
    "def draw_line(event):\n",
    "    x1, y1 = event.x , event.y\n",
    "    canvas.create_line(x1,y1,x1+2,y1+2,width=2)\n",
    "    \n",
    "def draw_circle(event):\n",
    "    x1,y1 = event.x, event.y\n",
    "    canvas.create_oval(x1 -5, y1 - 5, x1 + 5, y1 + 5, fill=\"red\")\n",
    "    \n",
    "# bind mouse events to drawing functions\n",
    "canvas.bind(\"<Button-3>\",draw_circle)\n",
    "canvas.bind(\"<B1-Motion>\",draw_line)\n",
    "\n",
    "# Start the main loop\n",
    "root.mainloop()"
   ]
  },
  {
   "cell_type": "markdown",
   "id": "c8631d9d",
   "metadata": {},
   "source": [
    "### Mouse Operations"
   ]
  },
  {
   "cell_type": "code",
   "execution_count": 90,
   "id": "b9f3c59e",
   "metadata": {},
   "outputs": [],
   "source": [
    "import cv2\n",
    "\n",
    "# load and image\n",
    "image = cv2.imread(\"lenna.png\")\n",
    "\n",
    "#Define the callback function\n",
    "def draw_circle(event, x,y,flags,param):\n",
    "    if event == cv2.EVENT_LBUTTONDOWN:\n",
    "        cv2.circle(image,(x,y),10,(0,255,0),-1) #draw a green circle\n",
    "        \n",
    "# Bind the callback function\n",
    "cv2.namedWindow(\"image\")\n",
    "cv2.setMouseCallback(\"image\",draw_circle)\n",
    "\n",
    "# Show the image and wait for events\n",
    "while True:\n",
    "    cv2.imshow(\"image\",image)\n",
    "    if cv2.waitKey(1) == ord(\"q\"):\n",
    "        break\n",
    "\n",
    "cv2.destroyAllWindows()"
   ]
  },
  {
   "cell_type": "markdown",
   "id": "189cdf5e",
   "metadata": {},
   "source": [
    "### Image Annotation"
   ]
  },
  {
   "cell_type": "code",
   "execution_count": 93,
   "id": "c70a9677",
   "metadata": {},
   "outputs": [],
   "source": [
    "import cv2\n",
    "\n",
    "# define the text and rectabgle properties\n",
    "text = \"Sample OK\"\n",
    "font_face = cv2.FONT_HERSHEY_SCRIPT_COMPLEX\n",
    "font_scale = 1.0\n",
    "color = (0, 255,145) ## green\n",
    "thickness = 2\n",
    "\n",
    "# Calculate text width and height\n",
    "text_size, baseline = cv2.getTextSize(text, font_face, font_scale, thickness)\n",
    "\n",
    "# define text and recatngle positions\n",
    "text_origin = (200,200)\n",
    "box_origin = (text_origin[0] - 10 , text_origin[1]- baseline -20)\n",
    "box_width , box_height = text_size[0] + 20, text_size[1] + 20\n",
    "\n",
    "image = cv2.imread(\"lenna.png\")\n",
    "\n",
    "# draw the rectangle and text\n",
    "cv2.rectangle(image, box_origin,(box_origin[0] + box_width,\n",
    "                                box_origin[1] + box_height), color , thickness)\n",
    "cv2.putText(image,  text, text_origin, font_face,font_scale,color, thickness)\n",
    "\n",
    "# display the annotated image\n",
    "cv2.imshow(\"Image\", image)\n",
    "cv2.waitKey(0)\n",
    "cv2.destroyAllWindows()"
   ]
  },
  {
   "cell_type": "markdown",
   "id": "0bcca10b",
   "metadata": {},
   "source": [
    "### Image Annotation using matplotlib"
   ]
  },
  {
   "cell_type": "code",
   "execution_count": 94,
   "id": "21f8c25e",
   "metadata": {},
   "outputs": [
    {
     "data": {
      "image/png": "[encoded data removed]",
      "text/plain": [
       "<Figure size 640x480 with 1 Axes>"
      ]
     },
     "metadata": {},
     "output_type": "display_data"
    }
   ],
   "source": [
    "import matplotlib.pyplot as plt\n",
    "\n",
    "x = [1,2,3]\n",
    "y = [2,5,1]\n",
    "\n",
    "plt.plot(x,y)\n",
    "plt.text(2,4,\"Data Point\", fontsize=14, color=\"red\") # annotate a specific point\n",
    "plt.title(\"Example Plot\")\n",
    "plt.xlabel(\"X-axis\")\n",
    "plt.ylabel(\"Y-axis\")\n",
    "plt.show()"
   ]
  },
  {
   "cell_type": "code",
   "execution_count": 97,
   "id": "69e90b20",
   "metadata": {},
   "outputs": [
    {
     "data": {
      "image/png": "[encoded data removed]",
      "text/plain": [
       "<Figure size 640x480 with 1 Axes>"
      ]
     },
     "metadata": {},
     "output_type": "display_data"
    }
   ],
   "source": [
    "plt.plot(x,y)\n",
    "plt.annotate(\"Peak value\", (2,5),xytext=(1.5,5.5),\n",
    "            arrowprops=dict(edgecolor='red', facecolor='green'))\n",
    "plt.annotate(\"Start value\", (1,2),xytext=(1.25,1.5),\n",
    "            arrowprops=dict(edgecolor='magenta', facecolor='yellow'))\n",
    "plt.annotate(\"End value\", (3,1),xytext=(2.5,1.1),\n",
    "            arrowprops=dict(edgecolor='black', facecolor='blue'))\n",
    "plt.show()"
   ]
  },
  {
   "cell_type": "code",
   "execution_count": 100,
   "id": "5943d32e",
   "metadata": {},
   "outputs": [
    {
     "data": {
      "image/png": "[encoded data removed]",
      "text/plain": [
       "<Figure size 640x480 with 1 Axes>"
      ]
     },
     "metadata": {},
     "output_type": "display_data"
    }
   ],
   "source": [
    "x = [3,6,9]\n",
    "y = [8,15,2]\n",
    "\n",
    "plt.plot(x,y)\n",
    "plt.annotate(\"Peak value\", (2,5),xytext=(1.5,5.5),\n",
    "            arrowprops=dict(edgecolor='red', facecolor='green'))\n",
    "plt.annotate(\"Start value\", (1,2),xytext=(1.25,1.5),\n",
    "            arrowprops=dict(edgecolor='magenta', facecolor='yellow'))\n",
    "plt.annotate(\"End value\", (3,1),xytext=(2.5,1.1),\n",
    "            arrowprops=dict(edgecolor='black', facecolor='blue'))\n",
    "plt.show()"
   ]
  },
  {
   "cell_type": "code",
   "execution_count": null,
   "id": "d28a97ba",
   "metadata": {},
   "outputs": [],
   "source": []
  }
 ],
 "metadata": {
  "kernelspec": {
   "display_name": "Python 3 (ipykernel)",
   "language": "python",
   "name": "python3"
  },
  "language_info": {
   "codemirror_mode": {
    "name": "ipython",
    "version": 3
   },
   "file_extension": ".py",
   "mimetype": "text/x-python",
   "name": "python",
   "nbconvert_exporter": "python",
   "pygments_lexer": "ipython3",
   "version": "3.11.5"
  }
 },
 "nbformat": 4,
 "nbformat_minor": 5
}
